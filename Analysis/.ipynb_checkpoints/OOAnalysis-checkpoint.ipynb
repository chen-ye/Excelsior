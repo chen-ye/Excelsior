{
 "metadata": {
  "name": "",
  "signature": "sha256:a65e87d7ffd364a4c599e3688c81415ec7a57cbd411267db5ceec0e860b41055"
 },
 "nbformat": 3,
 "nbformat_minor": 0,
 "worksheets": [
  {
   "cells": [
    {
     "cell_type": "code",
     "collapsed": false,
     "input": [
      "from numpy import *\n",
      "from xml.dom import minidom\n",
      "import pandas as pd\n",
      "import numpy.core\n",
      "import csv\n",
      "import os\n",
      "\n",
      "#Setup + Class Definitions\n",
      "#frameArray = array([], dtype=[('Rack', numpy.int32), ('Rep', numpy.int32), ('Frame', numpy.ndraray)])\n",
      "frameArray = []\n",
      "metadataMap = {}\n",
      "\n",
      "global spaceUnits\n",
      "global frameInterval\n",
      "global timeUnits\n",
      "\n",
      "class Track:\n",
      "    def __init__(self, id, spots):\n",
      "        self.id = id\n",
      "        self.spots = numpy.core.records.fromarrays(array(spots).transpose(), names = 't, x, y') # Assigns spots data structure to track\n",
      "        #self.meanDC\n",
      "        #self.metadata\n",
      "\n",
      "    def calculate(self):\n",
      "        self.meanX = average(self.spots['x'])\n",
      "        self.meanDY = average(diff(self.spots['y']))\n",
      "        #print('Calculated Mean X of ' + str(self.meanX) + ' and Mean Y Velocity of ' + str(self.meanDY))\n",
      "\n",
      "    def __str__( self ):\n",
      "        return str('ID: ' + str(self.id) + ' Mean X:' + str(self.meanX) + ' Mean Y Velocity: ' + str(self.meanDY) + 'Spots: ' + str(self.spots))\n",
      "\n",
      "class Metadata:\n",
      "    def __init__(self, age, nucleotype, mitotype, diet, replicate, repetition, recordDateTime):\n",
      "        self.age = age\n",
      "        self.nucleotype = nucleotype\n",
      "        self.mitotype = mitotype\n",
      "        self.diet = diet\n",
      "        self.replicate = replicate\n",
      "        self.repetition = repetition\n",
      "        self.recordDateTime = recordDateTime\n",
      "\n",
      "def filterXML(filename):\n",
      "    if filename.startswith('Tracked_Batch_Preprocessed') and filename.endswith('.xml'):\n",
      "        return True\n",
      "    else:\n",
      "        return False\n",
      "\n",
      "def findXML(path, age):\n",
      "    print('Recursively finding xmls in ' + path)\n",
      "    for dirpath, dirs, files in os.walk(path):\n",
      "        print('In directory ' + dirpath)\n",
      "        for xml in filter(filterXML,files):\n",
      "            print('Found xml: ' + xml + '.  Processing...')\n",
      "            importXML(dirpath, xml, age)\n",
      "    print('Completed!')\n",
      "\n",
      "def importXML(dirpath, filename, age):\n",
      "    trackArray = []\n",
      "    xml = minidom.parse(dirpath + '/' + filename)\n",
      "    #Extract the rack and repetition numbers\n",
      "    fileMeta = filename.split('_')\n",
      "    rack = int(fileMeta[4].replace('Rack',''))\n",
      "    rep = int(fileMeta[5].replace('Rep',''))\n",
      "    id = 0\n",
      "    metadata = xml.getElementsByTagName('Tracks')[0]\n",
      "    spaceUnits = metadata.attributes['spaceUnits'].value\n",
      "    frameInterval = float(metadata.attributes['frameInterval'].value)\n",
      "    timeUnits = metadata.attributes['timeUnits'].value\n",
      "    #Get all tracks\n",
      "    for track in xml.getElementsByTagName('particle'):\n",
      "        #print('Importing Track ' + str(id) + ' from ' + filename)\n",
      "        spotList = []\n",
      "        #Get all spots within a track        \n",
      "        for spot in track.getElementsByTagName('detection'):\n",
      "            spotList.append((int(spot.attributes['t'].value), float(spot.attributes['x'].value), float(spot.attributes['y'].value)))\n",
      "        trackStruct = Track(id, spotList)\n",
      "        trackArray.append(trackStruct)\n",
      "        trackStruct.calculate()\n",
      "        id += 1\n",
      "    print(str(id) + ' tracks imported from ' + filename)\n",
      "    frameArray.append((age, rack, rep, trackArray))\n",
      "\n",
      "def importMetadataCSV(path):\n",
      "    #Imports a csv that maps Age, Rack, Bin to Nucleotype('Nuclear'), Mitotype('Mito'), Diet, Replicate.  As such, it must contain those columns\n",
      "    metaArray = genfromtxt(path, delimiter=',', dtype=None, names=True)\n",
      "    for entry in metaArray:\n",
      "        for repetition in range (1,3):\n",
      "            metadataMap[(entry['age'],entry['Rack'],entry['Bin'],repetition)] = Metadata(entry['age'],entry['Nuclear'],entry['Mito'],entry['Diet'],entry['Replicate'],repetition,'Null')\n",
      "\n",
      "def bin(age, rack, rep, trackArray):\n",
      "    meanXArray = [track.meanX for track in trackArray]\n",
      "    min = min(meanXArray)\n",
      "    max = max(meanXArray)\n",
      "    range = max - min\n",
      "    bins = 6\n",
      "    interval = range / bins\n",
      "    \n",
      "    for track in trackArray:\n",
      "        bin = int(math.ceil((track.meanX - min) / interval))\n",
      "        metadata = metadataMap[(age,rack,rep,bin)]\n",
      "        track.metadata = metadata\n",
      "\n",
      "def exportToPandas(frameArray):\n",
      "    pandasNumArray = []\n",
      "    for frame in frameArray:\n",
      "        age = frame[0]\n",
      "        rep = frame[2]\n",
      "        trackArray = frame[3]\n",
      "        metadata = trackArray.metadata\n",
      "\n",
      "        bin(age,frame[1],rep,trackArray)\n",
      "        pandasNumArray.append((age,rack,rep,metadata.replicate,0,metadata.nucleotype,metadata.mitotype,metadata.diet,trackArray.meanDY))\n",
      "    dataframe = pd.DataFrame(array(pandasNumArray),index=None,columns=['Age','Rack','Repetition','Replicate','Tube','Nucleotype','Mitotype','Diet','Mean Vertical Velocity'])\n",
      "    return dataframe"
     ],
     "language": "python",
     "metadata": {},
     "outputs": [],
     "prompt_number": 2
    },
    {
     "cell_type": "code",
     "collapsed": false,
     "input": [
      "#Read XMLs from disk into memory\n",
      "findXML('D:\\Chen Ye\\Documents\\GitHub\\Excelsior\\HHMI_tracked_files\\young_flies_csv', 'young')\n",
      "findXML('D:\\Chen Ye\\Documents\\GitHub\\Excelsior\\HHMI_tracked_files\\young_flies_csv', 'old')"
     ],
     "language": "python",
     "metadata": {},
     "outputs": [
      {
       "output_type": "stream",
       "stream": "stdout",
       "text": [
        "Recursively finding xmls in D:\\Chen Ye\\Documents\\GitHub\\Excelsior\\HHMI_tracked_files\n",
        "In directory D:\\Chen Ye\\Documents\\GitHub\\Excelsior\\HHMI_tracked_files\n",
        "In directory D:\\Chen Ye\\Documents\\GitHub\\Excelsior\\HHMI_tracked_files\\Backup_csv\n",
        "In directory D:\\Chen Ye\\Documents\\GitHub\\Excelsior\\HHMI_tracked_files\\Master_csv\n",
        "In directory D:\\Chen Ye\\Documents\\GitHub\\Excelsior\\HHMI_tracked_files\\old_flies_csv\n",
        "In directory D:\\Chen Ye\\Documents\\GitHub\\Excelsior\\HHMI_tracked_files\\old_flies_xmls\n",
        "Found xml: Tracked_Batch_Preprocessed_VFlylapse_Rack10_Rep1_16-25-14.tif.xml.  Processing...\n",
        "107 tracks imported from Tracked_Batch_Preprocessed_VFlylapse_Rack10_Rep1_16-25-14.tif.xml"
       ]
      },
      {
       "output_type": "stream",
       "stream": "stdout",
       "text": [
        "\n",
        "Found xml: Tracked_Batch_Preprocessed_VFlylapse_Rack10_Rep2_16-26-09.tif.xml.  Processing...\n",
        "280 tracks imported from Tracked_Batch_Preprocessed_VFlylapse_Rack10_Rep2_16-26-09.tif.xml"
       ]
      },
      {
       "output_type": "stream",
       "stream": "stdout",
       "text": [
        "\n",
        "Found xml: Tracked_Batch_Preprocessed_VFlylapse_Rack10_Rep3_16-27-00.tif.xml.  Processing...\n",
        "85 tracks imported from Tracked_Batch_Preprocessed_VFlylapse_Rack10_Rep3_16-27-00.tif.xml"
       ]
      },
      {
       "output_type": "stream",
       "stream": "stdout",
       "text": [
        "\n",
        "Found xml: Tracked_Batch_Preprocessed_VFlylapse_Rack11_Rep1_16-35-07.tif.xml.  Processing...\n",
        "105 tracks imported from Tracked_Batch_Preprocessed_VFlylapse_Rack11_Rep1_16-35-07.tif.xml"
       ]
      },
      {
       "output_type": "stream",
       "stream": "stdout",
       "text": [
        "\n",
        "Found xml: Tracked_Batch_Preprocessed_VFlylapse_Rack11_Rep2_16-35-59.tif.xml.  Processing...\n",
        "178 tracks imported from Tracked_Batch_Preprocessed_VFlylapse_Rack11_Rep2_16-35-59.tif.xml"
       ]
      },
      {
       "output_type": "stream",
       "stream": "stdout",
       "text": [
        "\n",
        "Found xml: Tracked_Batch_Preprocessed_VFlylapse_Rack11_Rep3_16-36-50.tif.xml.  Processing...\n",
        "91 tracks imported from Tracked_Batch_Preprocessed_VFlylapse_Rack11_Rep3_16-36-50.tif.xml"
       ]
      },
      {
       "output_type": "stream",
       "stream": "stdout",
       "text": [
        "\n",
        "Found xml: Tracked_Batch_Preprocessed_VFlylapse_Rack12_Rep1_16-40-03.tif.xml.  Processing...\n",
        "180 tracks imported from Tracked_Batch_Preprocessed_VFlylapse_Rack12_Rep1_16-40-03.tif.xml"
       ]
      },
      {
       "output_type": "stream",
       "stream": "stdout",
       "text": [
        "\n",
        "Found xml: Tracked_Batch_Preprocessed_VFlylapse_Rack12_Rep2_16-40-56.tif.xml.  Processing...\n",
        "206 tracks imported from Tracked_Batch_Preprocessed_VFlylapse_Rack12_Rep2_16-40-56.tif.xml"
       ]
      },
      {
       "output_type": "stream",
       "stream": "stdout",
       "text": [
        "\n",
        "Found xml: Tracked_Batch_Preprocessed_VFlylapse_Rack12_Rep3_16-41-46.tif.xml.  Processing...\n",
        "143 tracks imported from Tracked_Batch_Preprocessed_VFlylapse_Rack12_Rep3_16-41-46.tif.xml"
       ]
      },
      {
       "output_type": "stream",
       "stream": "stdout",
       "text": [
        "\n",
        "Found xml: Tracked_Batch_Preprocessed_VFlylapse_Rack13_Rep1_16-43-02.tif.xml.  Processing...\n",
        "112 tracks imported from Tracked_Batch_Preprocessed_VFlylapse_Rack13_Rep1_16-43-02.tif.xml"
       ]
      },
      {
       "output_type": "stream",
       "stream": "stdout",
       "text": [
        "\n",
        "Found xml: Tracked_Batch_Preprocessed_VFlylapse_Rack13_Rep2_16-43-57.tif.xml.  Processing...\n",
        "103 tracks imported from Tracked_Batch_Preprocessed_VFlylapse_Rack13_Rep2_16-43-57.tif.xml"
       ]
      },
      {
       "output_type": "stream",
       "stream": "stdout",
       "text": [
        "\n",
        "Found xml: Tracked_Batch_Preprocessed_VFlylapse_Rack13_Rep3_16-44-55.tif.xml.  Processing...\n",
        "172 tracks imported from Tracked_Batch_Preprocessed_VFlylapse_Rack13_Rep3_16-44-55.tif.xml"
       ]
      },
      {
       "output_type": "stream",
       "stream": "stdout",
       "text": [
        "\n",
        "Found xml: Tracked_Batch_Preprocessed_VFlylapse_Rack14_Rep1_16-49-37.tif.xml.  Processing...\n",
        "41 tracks imported from Tracked_Batch_Preprocessed_VFlylapse_Rack14_Rep1_16-49-37.tif.xml"
       ]
      },
      {
       "output_type": "stream",
       "stream": "stdout",
       "text": [
        "\n",
        "Found xml: Tracked_Batch_Preprocessed_VFlylapse_Rack14_Rep2_16-50-22.tif.xml.  Processing...\n",
        "94 tracks imported from Tracked_Batch_Preprocessed_VFlylapse_Rack14_Rep2_16-50-22.tif.xml"
       ]
      },
      {
       "output_type": "stream",
       "stream": "stdout",
       "text": [
        "\n",
        "Found xml: Tracked_Batch_Preprocessed_VFlylapse_Rack14_Rep3_16-51-14.tif.xml.  Processing...\n",
        "88 tracks imported from Tracked_Batch_Preprocessed_VFlylapse_Rack14_Rep3_16-51-14.tif.xml"
       ]
      },
      {
       "output_type": "stream",
       "stream": "stdout",
       "text": [
        "\n",
        "Found xml: Tracked_Batch_Preprocessed_VFlylapse_Rack15_Rep1_16-52-11.tif.xml.  Processing...\n",
        "175 tracks imported from Tracked_Batch_Preprocessed_VFlylapse_Rack15_Rep1_16-52-11.tif.xml"
       ]
      },
      {
       "output_type": "stream",
       "stream": "stdout",
       "text": [
        "\n",
        "Found xml: Tracked_Batch_Preprocessed_VFlylapse_Rack15_Rep2_16-53-05.tif.xml.  Processing...\n",
        "67 tracks imported from Tracked_Batch_Preprocessed_VFlylapse_Rack15_Rep2_16-53-05.tif.xml"
       ]
      },
      {
       "output_type": "stream",
       "stream": "stdout",
       "text": [
        "\n",
        "Found xml: Tracked_Batch_Preprocessed_VFlylapse_Rack15_Rep3_16-53-56.tif.xml.  Processing...\n",
        "73 tracks imported from Tracked_Batch_Preprocessed_VFlylapse_Rack15_Rep3_16-53-56.tif.xml"
       ]
      },
      {
       "output_type": "stream",
       "stream": "stdout",
       "text": [
        "\n",
        "Found xml: Tracked_Batch_Preprocessed_VFlylapse_Rack16_Rep1_17-00-11.tif.xml.  Processing...\n",
        "24 tracks imported from Tracked_Batch_Preprocessed_VFlylapse_Rack16_Rep1_17-00-11.tif.xml"
       ]
      },
      {
       "output_type": "stream",
       "stream": "stdout",
       "text": [
        "\n",
        "Found xml: Tracked_Batch_Preprocessed_VFlylapse_Rack16_Rep2_17-01-25.tif.xml.  Processing...\n",
        "104 tracks imported from Tracked_Batch_Preprocessed_VFlylapse_Rack16_Rep2_17-01-25.tif.xml"
       ]
      },
      {
       "output_type": "stream",
       "stream": "stdout",
       "text": [
        "\n",
        "Found xml: Tracked_Batch_Preprocessed_VFlylapse_Rack16_Rep3_17-02-28.tif.xml.  Processing...\n",
        "102 tracks imported from Tracked_Batch_Preprocessed_VFlylapse_Rack16_Rep3_17-02-28.tif.xml"
       ]
      },
      {
       "output_type": "stream",
       "stream": "stdout",
       "text": [
        "\n",
        "Found xml: Tracked_Batch_Preprocessed_VFlylapse_Rack17_Rep1_17-04-46.tif.xml.  Processing...\n",
        "134 tracks imported from Tracked_Batch_Preprocessed_VFlylapse_Rack17_Rep1_17-04-46.tif.xml"
       ]
      },
      {
       "output_type": "stream",
       "stream": "stdout",
       "text": [
        "\n",
        "Found xml: Tracked_Batch_Preprocessed_VFlylapse_Rack17_Rep2_17-05-31.tif.xml.  Processing...\n",
        "133 tracks imported from Tracked_Batch_Preprocessed_VFlylapse_Rack17_Rep2_17-05-31.tif.xml"
       ]
      },
      {
       "output_type": "stream",
       "stream": "stdout",
       "text": [
        "\n",
        "Found xml: Tracked_Batch_Preprocessed_VFlylapse_Rack17_Rep3_17-06-37.tif.xml.  Processing...\n",
        "124 tracks imported from Tracked_Batch_Preprocessed_VFlylapse_Rack17_Rep3_17-06-37.tif.xml"
       ]
      },
      {
       "output_type": "stream",
       "stream": "stdout",
       "text": [
        "\n",
        "Found xml: Tracked_Batch_Preprocessed_VFlylapse_Rack18_Rep1_17-08-28.tif.xml.  Processing...\n",
        "112 tracks imported from Tracked_Batch_Preprocessed_VFlylapse_Rack18_Rep1_17-08-28.tif.xml"
       ]
      },
      {
       "output_type": "stream",
       "stream": "stdout",
       "text": [
        "\n",
        "Found xml: Tracked_Batch_Preprocessed_VFlylapse_Rack18_Rep2_17-09-21.tif.xml.  Processing...\n",
        "80 tracks imported from Tracked_Batch_Preprocessed_VFlylapse_Rack18_Rep2_17-09-21.tif.xml"
       ]
      },
      {
       "output_type": "stream",
       "stream": "stdout",
       "text": [
        "\n",
        "Found xml: Tracked_Batch_Preprocessed_VFlylapse_Rack18_Rep3_17-10-12.tif.xml.  Processing...\n",
        "89 tracks imported from Tracked_Batch_Preprocessed_VFlylapse_Rack18_Rep3_17-10-12.tif.xml"
       ]
      },
      {
       "output_type": "stream",
       "stream": "stdout",
       "text": [
        "\n",
        "Found xml: Tracked_Batch_Preprocessed_VFlylapse_Rack19_Rep1_17-13-04.tif.xml.  Processing...\n",
        "91 tracks imported from Tracked_Batch_Preprocessed_VFlylapse_Rack19_Rep1_17-13-04.tif.xml"
       ]
      },
      {
       "output_type": "stream",
       "stream": "stdout",
       "text": [
        "\n",
        "Found xml: Tracked_Batch_Preprocessed_VFlylapse_Rack19_Rep2_17-15-03.tif.xml.  Processing...\n",
        "35 tracks imported from Tracked_Batch_Preprocessed_VFlylapse_Rack19_Rep2_17-15-03.tif.xml"
       ]
      },
      {
       "output_type": "stream",
       "stream": "stdout",
       "text": [
        "\n",
        "Found xml: Tracked_Batch_Preprocessed_VFlylapse_Rack19_Rep3_17-15-52.tif.xml.  Processing...\n",
        "32 tracks imported from Tracked_Batch_Preprocessed_VFlylapse_Rack19_Rep3_17-15-52.tif.xml"
       ]
      },
      {
       "output_type": "stream",
       "stream": "stdout",
       "text": [
        "\n",
        "Found xml: Tracked_Batch_Preprocessed_VFlylapse_Rack1_Rep3_15-29-29.tif.xml.  Processing...\n",
        "142 tracks imported from Tracked_Batch_Preprocessed_VFlylapse_Rack1_Rep3_15-29-29.tif.xml"
       ]
      },
      {
       "output_type": "stream",
       "stream": "stdout",
       "text": [
        "\n",
        "Found xml: Tracked_Batch_Preprocessed_VFlylapse_Rack20_Rep1_17-20-24.tif.xml.  Processing...\n",
        "135 tracks imported from Tracked_Batch_Preprocessed_VFlylapse_Rack20_Rep1_17-20-24.tif.xml"
       ]
      },
      {
       "output_type": "stream",
       "stream": "stdout",
       "text": [
        "\n",
        "Found xml: Tracked_Batch_Preprocessed_VFlylapse_Rack20_Rep2_17-21-17.tif.xml.  Processing...\n",
        "106 tracks imported from Tracked_Batch_Preprocessed_VFlylapse_Rack20_Rep2_17-21-17.tif.xml"
       ]
      },
      {
       "output_type": "stream",
       "stream": "stdout",
       "text": [
        "\n",
        "Found xml: Tracked_Batch_Preprocessed_VFlylapse_Rack20_Rep3_17-23-18.tif.xml.  Processing...\n",
        "97 tracks imported from Tracked_Batch_Preprocessed_VFlylapse_Rack20_Rep3_17-23-18.tif.xml"
       ]
      },
      {
       "output_type": "stream",
       "stream": "stdout",
       "text": [
        "\n",
        "Found xml: Tracked_Batch_Preprocessed_VFlylapse_Rack21_Rep1_17-27-28.tif.xml.  Processing...\n",
        "52 tracks imported from Tracked_Batch_Preprocessed_VFlylapse_Rack21_Rep1_17-27-28.tif.xml"
       ]
      },
      {
       "output_type": "stream",
       "stream": "stdout",
       "text": [
        "\n",
        "Found xml: Tracked_Batch_Preprocessed_VFlylapse_Rack21_Rep2_17-28-45.tif.xml.  Processing...\n",
        "71 tracks imported from Tracked_Batch_Preprocessed_VFlylapse_Rack21_Rep2_17-28-45.tif.xml"
       ]
      },
      {
       "output_type": "stream",
       "stream": "stdout",
       "text": [
        "\n",
        "Found xml: Tracked_Batch_Preprocessed_VFlylapse_Rack21_Rep3_17-29-49.tif.xml.  Processing...\n",
        "128 tracks imported from Tracked_Batch_Preprocessed_VFlylapse_Rack21_Rep3_17-29-49.tif.xml"
       ]
      },
      {
       "output_type": "stream",
       "stream": "stdout",
       "text": [
        "\n",
        "Found xml: Tracked_Batch_Preprocessed_VFlylapse_Rack2_Rep1_15-30-40.tif.xml.  Processing...\n",
        "131 tracks imported from Tracked_Batch_Preprocessed_VFlylapse_Rack2_Rep1_15-30-40.tif.xml"
       ]
      },
      {
       "output_type": "stream",
       "stream": "stdout",
       "text": [
        "\n",
        "Found xml: Tracked_Batch_Preprocessed_VFlylapse_Rack2_Rep2_15-31-21.tif.xml.  Processing...\n",
        "88 tracks imported from Tracked_Batch_Preprocessed_VFlylapse_Rack2_Rep2_15-31-21.tif.xml"
       ]
      },
      {
       "output_type": "stream",
       "stream": "stdout",
       "text": [
        "\n",
        "Found xml: Tracked_Batch_Preprocessed_VFlylapse_Rack2_Rep3_15-31-57.tif.xml.  Processing...\n",
        "83 tracks imported from Tracked_Batch_Preprocessed_VFlylapse_Rack2_Rep3_15-31-57.tif.xml"
       ]
      },
      {
       "output_type": "stream",
       "stream": "stdout",
       "text": [
        "\n",
        "Found xml: Tracked_Batch_Preprocessed_VFlylapse_Rack3_Rep1_15-35-19.tif.xml.  Processing...\n",
        "39 tracks imported from Tracked_Batch_Preprocessed_VFlylapse_Rack3_Rep1_15-35-19.tif.xml"
       ]
      },
      {
       "output_type": "stream",
       "stream": "stdout",
       "text": [
        "\n",
        "Found xml: Tracked_Batch_Preprocessed_VFlylapse_Rack3_Rep2_15-37-44.tif.xml.  Processing...\n",
        "126 tracks imported from Tracked_Batch_Preprocessed_VFlylapse_Rack3_Rep2_15-37-44.tif.xml"
       ]
      },
      {
       "output_type": "stream",
       "stream": "stdout",
       "text": [
        "\n",
        "Found xml: Tracked_Batch_Preprocessed_VFlylapse_Rack3_Rep3_15-38-37.tif.xml.  Processing...\n",
        "32 tracks imported from Tracked_Batch_Preprocessed_VFlylapse_Rack3_Rep3_15-38-37.tif.xml"
       ]
      },
      {
       "output_type": "stream",
       "stream": "stdout",
       "text": [
        "\n",
        "Found xml: Tracked_Batch_Preprocessed_VFlylapse_Rack4_Rep1_15-46-41.tif.xml.  Processing...\n",
        "138 tracks imported from Tracked_Batch_Preprocessed_VFlylapse_Rack4_Rep1_15-46-41.tif.xml"
       ]
      },
      {
       "output_type": "stream",
       "stream": "stdout",
       "text": [
        "\n",
        "Found xml: Tracked_Batch_Preprocessed_VFlylapse_Rack4_Rep2_15-47-21.tif.xml.  Processing...\n",
        "45 tracks imported from Tracked_Batch_Preprocessed_VFlylapse_Rack4_Rep2_15-47-21.tif.xml"
       ]
      },
      {
       "output_type": "stream",
       "stream": "stdout",
       "text": [
        "\n",
        "Found xml: Tracked_Batch_Preprocessed_VFlylapse_Rack4_Rep3_15-47-55.tif.xml.  Processing...\n",
        "38 tracks imported from Tracked_Batch_Preprocessed_VFlylapse_Rack4_Rep3_15-47-55.tif.xml"
       ]
      },
      {
       "output_type": "stream",
       "stream": "stdout",
       "text": [
        "\n",
        "Found xml: Tracked_Batch_Preprocessed_VFlylapse_Rack5_Rep1_15-49-03.tif.xml.  Processing...\n",
        "82 tracks imported from Tracked_Batch_Preprocessed_VFlylapse_Rack5_Rep1_15-49-03.tif.xml"
       ]
      },
      {
       "output_type": "stream",
       "stream": "stdout",
       "text": [
        "\n",
        "Found xml: Tracked_Batch_Preprocessed_VFlylapse_Rack5_Rep2_15-49-52.tif.xml.  Processing...\n",
        "70 tracks imported from Tracked_Batch_Preprocessed_VFlylapse_Rack5_Rep2_15-49-52.tif.xml"
       ]
      },
      {
       "output_type": "stream",
       "stream": "stdout",
       "text": [
        "\n",
        "Found xml: Tracked_Batch_Preprocessed_VFlylapse_Rack5_Rep3_15-50-37.tif.xml.  Processing...\n",
        "71 tracks imported from Tracked_Batch_Preprocessed_VFlylapse_Rack5_Rep3_15-50-37.tif.xml"
       ]
      },
      {
       "output_type": "stream",
       "stream": "stdout",
       "text": [
        "\n",
        "Found xml: Tracked_Batch_Preprocessed_VFlylapse_Rack6_Rep2_15-58-54.tif.xml.  Processing...\n",
        "138 tracks imported from Tracked_Batch_Preprocessed_VFlylapse_Rack6_Rep2_15-58-54.tif.xml"
       ]
      },
      {
       "output_type": "stream",
       "stream": "stdout",
       "text": [
        "\n",
        "Found xml: Tracked_Batch_Preprocessed_VFlylapse_Rack6_Rep3_15-59-40.tif.xml.  Processing...\n",
        "82 tracks imported from Tracked_Batch_Preprocessed_VFlylapse_Rack6_Rep3_15-59-40.tif.xml"
       ]
      },
      {
       "output_type": "stream",
       "stream": "stdout",
       "text": [
        "\n",
        "Found xml: Tracked_Batch_Preprocessed_VFlylapse_Rack7_Rep1_16-03-51.tif.xml.  Processing...\n",
        "142 tracks imported from Tracked_Batch_Preprocessed_VFlylapse_Rack7_Rep1_16-03-51.tif.xml"
       ]
      },
      {
       "output_type": "stream",
       "stream": "stdout",
       "text": [
        "\n",
        "Found xml: Tracked_Batch_Preprocessed_VFlylapse_Rack7_Rep2_16-04-36.tif.xml.  Processing...\n",
        "213 tracks imported from Tracked_Batch_Preprocessed_VFlylapse_Rack7_Rep2_16-04-36.tif.xml"
       ]
      },
      {
       "output_type": "stream",
       "stream": "stdout",
       "text": [
        "\n",
        "Found xml: Tracked_Batch_Preprocessed_VFlylapse_Rack8_Rep1_16-12-03.tif.xml.  Processing...\n",
        "49 tracks imported from Tracked_Batch_Preprocessed_VFlylapse_Rack8_Rep1_16-12-03.tif.xml"
       ]
      },
      {
       "output_type": "stream",
       "stream": "stdout",
       "text": [
        "\n",
        "Found xml: Tracked_Batch_Preprocessed_VFlylapse_Rack8_Rep2_16-12-47.tif.xml.  Processing...\n",
        "72 tracks imported from Tracked_Batch_Preprocessed_VFlylapse_Rack8_Rep2_16-12-47.tif.xml"
       ]
      },
      {
       "output_type": "stream",
       "stream": "stdout",
       "text": [
        "\n",
        "Found xml: Tracked_Batch_Preprocessed_VFlylapse_Rack8_Rep3_16-14-17.tif.xml.  Processing...\n",
        "80 tracks imported from Tracked_Batch_Preprocessed_VFlylapse_Rack8_Rep3_16-14-17.tif.xml"
       ]
      },
      {
       "output_type": "stream",
       "stream": "stdout",
       "text": [
        "\n",
        "Found xml: Tracked_Batch_Preprocessed_VFlylapse_Rack9_Rep1_16-18-13.tif.xml.  Processing...\n",
        "76 tracks imported from Tracked_Batch_Preprocessed_VFlylapse_Rack9_Rep1_16-18-13.tif.xml"
       ]
      },
      {
       "output_type": "stream",
       "stream": "stdout",
       "text": [
        "\n",
        "Found xml: Tracked_Batch_Preprocessed_VFlylapse_Rack9_Rep2_16-19-27.tif.xml.  Processing...\n",
        "22 tracks imported from Tracked_Batch_Preprocessed_VFlylapse_Rack9_Rep2_16-19-27.tif.xml"
       ]
      },
      {
       "output_type": "stream",
       "stream": "stdout",
       "text": [
        "\n",
        "Found xml: Tracked_Batch_Preprocessed_VFlylapse_Rack9_Rep3_16-20-09.tif.xml.  Processing...\n",
        "41 tracks imported from Tracked_Batch_Preprocessed_VFlylapse_Rack9_Rep3_16-20-09.tif.xml"
       ]
      },
      {
       "output_type": "stream",
       "stream": "stdout",
       "text": [
        "\n",
        "In directory D:\\Chen Ye\\Documents\\GitHub\\Excelsior\\HHMI_tracked_files\\young_flies_csv\n",
        "In directory D:\\Chen Ye\\Documents\\GitHub\\Excelsior\\HHMI_tracked_files\\young_flies_xmls\n",
        "Found xml: Tracked_Batch_Preprocessed_VFlylapse_Rack10_Rep1_19-52-58.tif.xml.  Processing...\n",
        "125 tracks imported from Tracked_Batch_Preprocessed_VFlylapse_Rack10_Rep1_19-52-58.tif.xml"
       ]
      },
      {
       "output_type": "stream",
       "stream": "stdout",
       "text": [
        "\n",
        "Found xml: Tracked_Batch_Preprocessed_VFlylapse_Rack10_Rep2_19-54-03.tif.xml.  Processing...\n",
        "134 tracks imported from Tracked_Batch_Preprocessed_VFlylapse_Rack10_Rep2_19-54-03.tif.xml"
       ]
      },
      {
       "output_type": "stream",
       "stream": "stdout",
       "text": [
        "\n",
        "Found xml: Tracked_Batch_Preprocessed_VFlylapse_Rack10_Rep3_19-54-56.tif.xml.  Processing...\n",
        "126 tracks imported from Tracked_Batch_Preprocessed_VFlylapse_Rack10_Rep3_19-54-56.tif.xml"
       ]
      },
      {
       "output_type": "stream",
       "stream": "stdout",
       "text": [
        "\n",
        "Found xml: Tracked_Batch_Preprocessed_VFlylapse_Rack11_Rep1_19-59-01.tif.xml.  Processing...\n",
        "131 tracks imported from Tracked_Batch_Preprocessed_VFlylapse_Rack11_Rep1_19-59-01.tif.xml"
       ]
      },
      {
       "output_type": "stream",
       "stream": "stdout",
       "text": [
        "\n",
        "Found xml: Tracked_Batch_Preprocessed_VFlylapse_Rack11_Rep2_19-59-54.tif.xml.  Processing...\n",
        "133 tracks imported from Tracked_Batch_Preprocessed_VFlylapse_Rack11_Rep2_19-59-54.tif.xml"
       ]
      },
      {
       "output_type": "stream",
       "stream": "stdout",
       "text": [
        "\n",
        "Found xml: Tracked_Batch_Preprocessed_VFlylapse_Rack11_Rep3_20-00-53.tif.xml.  Processing...\n",
        "119 tracks imported from Tracked_Batch_Preprocessed_VFlylapse_Rack11_Rep3_20-00-53.tif.xml"
       ]
      },
      {
       "output_type": "stream",
       "stream": "stdout",
       "text": [
        "\n",
        "Found xml: Tracked_Batch_Preprocessed_VFlylapse_Rack12_Rep1_20-03-46.tif.xml.  Processing...\n",
        "122 tracks imported from Tracked_Batch_Preprocessed_VFlylapse_Rack12_Rep1_20-03-46.tif.xml"
       ]
      },
      {
       "output_type": "stream",
       "stream": "stdout",
       "text": [
        "\n",
        "Found xml: Tracked_Batch_Preprocessed_VFlylapse_Rack12_Rep2_20-04-37.tif.xml.  Processing...\n",
        "129 tracks imported from Tracked_Batch_Preprocessed_VFlylapse_Rack12_Rep2_20-04-37.tif.xml"
       ]
      },
      {
       "output_type": "stream",
       "stream": "stdout",
       "text": [
        "\n",
        "Found xml: Tracked_Batch_Preprocessed_VFlylapse_Rack12_Rep3_20-06-12.tif.xml.  Processing...\n",
        "114 tracks imported from Tracked_Batch_Preprocessed_VFlylapse_Rack12_Rep3_20-06-12.tif.xml"
       ]
      },
      {
       "output_type": "stream",
       "stream": "stdout",
       "text": [
        "\n",
        "Found xml: Tracked_Batch_Preprocessed_VFlylapse_Rack1_Rep1_18-34-50.tif.xml.  Processing...\n",
        "156 tracks imported from Tracked_Batch_Preprocessed_VFlylapse_Rack1_Rep1_18-34-50.tif.xml"
       ]
      },
      {
       "output_type": "stream",
       "stream": "stdout",
       "text": [
        "\n",
        "Found xml: Tracked_Batch_Preprocessed_VFlylapse_Rack1_Rep2_18-35-37.tif.xml.  Processing...\n",
        "141 tracks imported from Tracked_Batch_Preprocessed_VFlylapse_Rack1_Rep2_18-35-37.tif.xml"
       ]
      },
      {
       "output_type": "stream",
       "stream": "stdout",
       "text": [
        "\n",
        "Found xml: Tracked_Batch_Preprocessed_VFlylapse_Rack1_Rep3_18-36-20.tif.xml.  Processing...\n",
        "137 tracks imported from Tracked_Batch_Preprocessed_VFlylapse_Rack1_Rep3_18-36-20.tif.xml"
       ]
      },
      {
       "output_type": "stream",
       "stream": "stdout",
       "text": [
        "\n",
        "Found xml: Tracked_Batch_Preprocessed_VFlylapse_Rack2_Rep1_18-47-50.tif.xml.  Processing...\n",
        "174 tracks imported from Tracked_Batch_Preprocessed_VFlylapse_Rack2_Rep1_18-47-50.tif.xml"
       ]
      },
      {
       "output_type": "stream",
       "stream": "stdout",
       "text": [
        "\n",
        "Found xml: Tracked_Batch_Preprocessed_VFlylapse_Rack2_Rep2_18-48-36.tif.xml.  Processing...\n",
        "160 tracks imported from Tracked_Batch_Preprocessed_VFlylapse_Rack2_Rep2_18-48-36.tif.xml"
       ]
      },
      {
       "output_type": "stream",
       "stream": "stdout",
       "text": [
        "\n",
        "Found xml: Tracked_Batch_Preprocessed_VFlylapse_Rack2_Rep3_18-49-21.tif.xml.  Processing...\n",
        "142 tracks imported from Tracked_Batch_Preprocessed_VFlylapse_Rack2_Rep3_18-49-21.tif.xml"
       ]
      },
      {
       "output_type": "stream",
       "stream": "stdout",
       "text": [
        "\n",
        "Found xml: Tracked_Batch_Preprocessed_VFlylapse_Rack3_Rep1_18-56-23.tif.xml.  Processing...\n",
        "153 tracks imported from Tracked_Batch_Preprocessed_VFlylapse_Rack3_Rep1_18-56-23.tif.xml"
       ]
      },
      {
       "output_type": "stream",
       "stream": "stdout",
       "text": [
        "\n",
        "Found xml: Tracked_Batch_Preprocessed_VFlylapse_Rack3_Rep2_18-57-11.tif.xml.  Processing...\n",
        "143 tracks imported from Tracked_Batch_Preprocessed_VFlylapse_Rack3_Rep2_18-57-11.tif.xml"
       ]
      },
      {
       "output_type": "stream",
       "stream": "stdout",
       "text": [
        "\n",
        "Found xml: Tracked_Batch_Preprocessed_VFlylapse_Rack3_Rep3_18-59-06.tif.xml.  Processing...\n",
        "133 tracks imported from Tracked_Batch_Preprocessed_VFlylapse_Rack3_Rep3_18-59-06.tif.xml"
       ]
      },
      {
       "output_type": "stream",
       "stream": "stdout",
       "text": [
        "\n",
        "Found xml: Tracked_Batch_Preprocessed_VFlylapse_Rack4_Rep1_19-09-55.tif.xml.  Processing...\n",
        "122 tracks imported from Tracked_Batch_Preprocessed_VFlylapse_Rack4_Rep1_19-09-55.tif.xml"
       ]
      },
      {
       "output_type": "stream",
       "stream": "stdout",
       "text": [
        "\n",
        "Found xml: Tracked_Batch_Preprocessed_VFlylapse_Rack4_Rep2_19-11-46.tif.xml.  Processing...\n",
        "103 tracks imported from Tracked_Batch_Preprocessed_VFlylapse_Rack4_Rep2_19-11-46.tif.xml"
       ]
      },
      {
       "output_type": "stream",
       "stream": "stdout",
       "text": [
        "\n",
        "Found xml: Tracked_Batch_Preprocessed_VFlylapse_Rack4_Rep3_19-12-28.tif.xml.  Processing...\n",
        "109 tracks imported from Tracked_Batch_Preprocessed_VFlylapse_Rack4_Rep3_19-12-28.tif.xml"
       ]
      },
      {
       "output_type": "stream",
       "stream": "stdout",
       "text": [
        "\n",
        "Found xml: Tracked_Batch_Preprocessed_VFlylapse_Rack5_Rep1_19-18-24.tif.xml.  Processing...\n",
        "146 tracks imported from Tracked_Batch_Preprocessed_VFlylapse_Rack5_Rep1_19-18-24.tif.xml"
       ]
      },
      {
       "output_type": "stream",
       "stream": "stdout",
       "text": [
        "\n",
        "Found xml: Tracked_Batch_Preprocessed_VFlylapse_Rack5_Rep2_19-19-22.tif.xml.  Processing...\n",
        "126 tracks imported from Tracked_Batch_Preprocessed_VFlylapse_Rack5_Rep2_19-19-22.tif.xml"
       ]
      },
      {
       "output_type": "stream",
       "stream": "stdout",
       "text": [
        "\n",
        "Found xml: Tracked_Batch_Preprocessed_VFlylapse_Rack5_Rep3_19-20-14.tif.xml.  Processing...\n",
        "136 tracks imported from Tracked_Batch_Preprocessed_VFlylapse_Rack5_Rep3_19-20-14.tif.xml"
       ]
      },
      {
       "output_type": "stream",
       "stream": "stdout",
       "text": [
        "\n",
        "Found xml: Tracked_Batch_Preprocessed_VFlylapse_Rack6_Rep1_19-33-25.tif.xml.  Processing...\n",
        "95 tracks imported from Tracked_Batch_Preprocessed_VFlylapse_Rack6_Rep1_19-33-25.tif.xml"
       ]
      },
      {
       "output_type": "stream",
       "stream": "stdout",
       "text": [
        "\n",
        "Found xml: Tracked_Batch_Preprocessed_VFlylapse_Rack6_Rep2_19-34-06.tif.xml.  Processing...\n",
        "129 tracks imported from Tracked_Batch_Preprocessed_VFlylapse_Rack6_Rep2_19-34-06.tif.xml"
       ]
      },
      {
       "output_type": "stream",
       "stream": "stdout",
       "text": [
        "\n",
        "Found xml: Tracked_Batch_Preprocessed_VFlylapse_Rack6_Rep3_19-35-07.tif.xml.  Processing...\n",
        "104 tracks imported from Tracked_Batch_Preprocessed_VFlylapse_Rack6_Rep3_19-35-07.tif.xml"
       ]
      },
      {
       "output_type": "stream",
       "stream": "stdout",
       "text": [
        "\n",
        "Found xml: Tracked_Batch_Preprocessed_VFlylapse_Rack7_Rep1_19-36-20.tif.xml.  Processing...\n",
        "133 tracks imported from Tracked_Batch_Preprocessed_VFlylapse_Rack7_Rep1_19-36-20.tif.xml"
       ]
      },
      {
       "output_type": "stream",
       "stream": "stdout",
       "text": [
        "\n",
        "Found xml: Tracked_Batch_Preprocessed_VFlylapse_Rack7_Rep2_19-37-06.tif.xml.  Processing...\n",
        "173 tracks imported from Tracked_Batch_Preprocessed_VFlylapse_Rack7_Rep2_19-37-06.tif.xml"
       ]
      },
      {
       "output_type": "stream",
       "stream": "stdout",
       "text": [
        "\n",
        "Found xml: Tracked_Batch_Preprocessed_VFlylapse_Rack7_Rep3_19-37-48.tif.xml.  Processing...\n",
        "171 tracks imported from Tracked_Batch_Preprocessed_VFlylapse_Rack7_Rep3_19-37-48.tif.xml"
       ]
      },
      {
       "output_type": "stream",
       "stream": "stdout",
       "text": [
        "\n",
        "Found xml: Tracked_Batch_Preprocessed_VFlylapse_Rack8_Rep1_19-39-23.tif.xml.  Processing...\n",
        "226 tracks imported from Tracked_Batch_Preprocessed_VFlylapse_Rack8_Rep1_19-39-23.tif.xml"
       ]
      },
      {
       "output_type": "stream",
       "stream": "stdout",
       "text": [
        "\n",
        "Found xml: Tracked_Batch_Preprocessed_VFlylapse_Rack8_Rep2_19-40-11.tif.xml.  Processing...\n",
        "213 tracks imported from Tracked_Batch_Preprocessed_VFlylapse_Rack8_Rep2_19-40-11.tif.xml"
       ]
      },
      {
       "output_type": "stream",
       "stream": "stdout",
       "text": [
        "\n",
        "Found xml: Tracked_Batch_Preprocessed_VFlylapse_Rack8_Rep3_19-41-22.tif.xml.  Processing...\n",
        "211 tracks imported from Tracked_Batch_Preprocessed_VFlylapse_Rack8_Rep3_19-41-22.tif.xml"
       ]
      },
      {
       "output_type": "stream",
       "stream": "stdout",
       "text": [
        "\n",
        "Found xml: Tracked_Batch_Preprocessed_VFlylapse_Rack9_Rep1_19-46-43.tif.xml.  Processing...\n",
        "127 tracks imported from Tracked_Batch_Preprocessed_VFlylapse_Rack9_Rep1_19-46-43.tif.xml"
       ]
      },
      {
       "output_type": "stream",
       "stream": "stdout",
       "text": [
        "\n",
        "Found xml: Tracked_Batch_Preprocessed_VFlylapse_Rack9_Rep2_19-47-33.tif.xml.  Processing...\n",
        "137 tracks imported from Tracked_Batch_Preprocessed_VFlylapse_Rack9_Rep2_19-47-33.tif.xml"
       ]
      },
      {
       "output_type": "stream",
       "stream": "stdout",
       "text": [
        "\n",
        "Found xml: Tracked_Batch_Preprocessed_VFlylapse_Rack9_Rep3_19-48-16.tif.xml.  Processing...\n",
        "142 tracks imported from Tracked_Batch_Preprocessed_VFlylapse_Rack9_Rep3_19-48-16.tif.xml"
       ]
      },
      {
       "output_type": "stream",
       "stream": "stdout",
       "text": [
        "\n"
       ]
      }
     ],
     "prompt_number": 3
    },
    {
     "cell_type": "code",
     "collapsed": false,
     "input": [
      "#Test some values\n",
      "print frameArray[0][2][0].spots[1]['x']"
     ],
     "language": "python",
     "metadata": {},
     "outputs": [
      {
       "output_type": "stream",
       "stream": "stdout",
       "text": [
        "10.2154182296\n"
       ]
      }
     ],
     "prompt_number": 6
    },
    {
     "cell_type": "code",
     "collapsed": false,
     "input": [
      "#Create a pandas dataframe\n",
      "dataframe = exportToPandas(frameArray)"
     ],
     "language": "python",
     "metadata": {},
     "outputs": []
    }
   ],
   "metadata": {}
  }
 ]
}