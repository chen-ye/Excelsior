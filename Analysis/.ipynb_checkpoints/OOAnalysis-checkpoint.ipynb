{
 "metadata": {
  "name": "",
  "signature": "sha256:03aa651724613901fd4a8edd1ddd9fbb286a515d344534862ad928a471fc9eec"
 },
 "nbformat": 3,
 "nbformat_minor": 0,
 "worksheets": [
  {
   "cells": [
    {
     "cell_type": "code",
     "collapsed": false,
     "input": [
      "from numpy import *\n",
      "from xml.dom import minidom\n",
      "import pandas as pd\n",
      "import numpy.core\n",
      "import csv\n",
      "import os\n",
      "\n",
      "#Setup + Class Definitions\n",
      "#frameArray = array([], dtype=[('Rack', numpy.int32), ('Rep', numpy.int32), ('Frame', numpy.ndraray)])\n",
      "frameArray = []\n",
      "metadataMap = {}\n",
      "\n",
      "global spaceUnits\n",
      "global frameInterval\n",
      "global timeUnits\n",
      "\n",
      "class Track:\n",
      "    def __init__(self, id, spots):\n",
      "        self.id = id\n",
      "        self.spots = numpy.core.records.fromarrays(array(spots).transpose(), names = 't, x, y') # Assigns spots data structure to track\n",
      "        #self.meanDC\n",
      "        #self.metadata\n",
      "\n",
      "    def calculate(self):\n",
      "        self.meanX = average(self.spots['x'])\n",
      "        self.meanDY = average(diff(self.spots['y']))\n",
      "        #print('Calculated Mean X of ' + str(self.meanX) + ' and Mean Y Velocity of ' + str(self.meanDY))\n",
      "\n",
      "    def __str__( self ):\n",
      "        return str('ID: ' + str(self.id) + ' Mean X:' + str(self.meanX) + ' Mean Y Velocity: ' + str(self.meanDY) + 'Spots: ' + str(self.spots))\n",
      "\n",
      "class Metadata:\n",
      "    def __init__(self, age, nucleotype, mitotype, diet, replicate, repetition, recordDateTime):\n",
      "        self.age = age\n",
      "        self.nucleotype = nucleotype\n",
      "        self.mitotype = mitotype\n",
      "        self.diet = diet\n",
      "        self.replicate = replicate\n",
      "        self.repetition = repetition\n",
      "        self.recordDateTime = recordDateTime\n",
      "\n",
      "def filterXML(filename):\n",
      "    if filename.startswith('Tracked_Batch_Preprocessed') and filename.endswith('.xml'):\n",
      "        return True\n",
      "    else:\n",
      "        return False\n",
      "\n",
      "def findXML(path, age):\n",
      "    print('Recursively finding xmls in ' + path)\n",
      "    for dirpath, dirs, files in os.walk(path):\n",
      "        print('In directory ' + dirpath)\n",
      "        for xml in filter(filterXML,files):\n",
      "            print('Found xml: ' + xml + '.  Processing...')\n",
      "            importXML(dirpath, xml, age)\n",
      "    print('Completed!')\n",
      "\n",
      "def importXML(dirpath, filename, age):\n",
      "    trackArray = []\n",
      "    xml = minidom.parse(dirpath + '/' + filename)\n",
      "    #Extract the rack and repetition numbers\n",
      "    fileMeta = filename.split('_')\n",
      "    rack = int(fileMeta[4].replace('Rack',''))\n",
      "    rep = int(fileMeta[5].replace('Rep',''))\n",
      "    id = 0\n",
      "    metadata = xml.getElementsByTagName('Tracks')[0]\n",
      "    spaceUnits = metadata.attributes['spaceUnits'].value\n",
      "    frameInterval = float(metadata.attributes['frameInterval'].value)\n",
      "    timeUnits = metadata.attributes['timeUnits'].value\n",
      "    #Get all tracks\n",
      "    for track in xml.getElementsByTagName('particle'):\n",
      "        #print('Importing Track ' + str(id) + ' from ' + filename)\n",
      "        spotList = []\n",
      "        #Get all spots within a track        \n",
      "        for spot in track.getElementsByTagName('detection'):\n",
      "            spotList.append((int(spot.attributes['t'].value), float(spot.attributes['x'].value), float(spot.attributes['y'].value)))\n",
      "        trackStruct = Track(id, spotList)\n",
      "        trackArray.append(trackStruct)\n",
      "        trackStruct.calculate()\n",
      "        id += 1\n",
      "    print(str(id) + ' tracks imported from ' + filename)\n",
      "    frameArray.append((age, rack, rep, trackArray))\n",
      "\n",
      "def importMetadataCSV(path):\n",
      "    #Imports a csv that maps Age, Rack, Bin to Nucleotype('Nuclear'), Mitotype('Mito'), Diet, Replicate.  As such, it must contain those columns\n",
      "    metaArray = genfromtxt(path, delimiter=',', dtype=None, names=True)\n",
      "    for entry in metaArray:\n",
      "        for repetition in range (1,3):\n",
      "            metadataMap[(entry['age'],entry['Rack'],entry['Bin'],repetition)] = Metadata(entry['age'],entry['Nuclear'],entry['Mito'],entry['Diet'],entry['Replicate'],repetition,'Null')\n",
      "\n",
      "def bin(age, rack, rep, trackArray):\n",
      "    meanXArray = [track.meanX for track in trackArray]\n",
      "    min = min(meanXArray)\n",
      "    max = max(meanXArray)\n",
      "    range = max - min\n",
      "    bins = 6\n",
      "    interval = range / bins\n",
      "    \n",
      "    for track in trackArray:\n",
      "        bin = int(math.ceil((track.meanX - min) / interval))\n",
      "        metadata = metadataMap[(age,rack,rep,bin)]\n",
      "        track.metadata = metadata\n",
      "\n",
      "def exportToPandas(frameArray):\n",
      "    pandasNumArray = []\n",
      "    for frame in frameArray:\n",
      "        age = frame[0]\n",
      "        rep = frame[2]\n",
      "        trackArray = frame[3]\n",
      "        metadata = trackArray.metadata\n",
      "\n",
      "        bin(age,frame[1],rep,trackArray)\n",
      "        pandasNumArray.append((age,rack,rep,metadata.replicate,0,metadata.nucleotype,metadata.mitotype,metadata.diet,trackArray.meanDY))\n",
      "    dataframe = pd.DataFrame(array(pandasNumArray),index=None,columns=['Age','Rack','Repetition','Replicate','Tube','Nucleotype','Mitotype','Diet','Mean Vertical Velocity'])\n",
      "    return dataframe"
     ],
     "language": "python",
     "metadata": {},
     "outputs": [],
     "prompt_number": 1
    },
    {
     "cell_type": "code",
     "collapsed": false,
     "input": [
      "#Read XMLs from disk into memory\n",
      "findXML('D:\\Chen Ye\\Documents\\GitHub\\Excelsior\\HHMI_tracked_files\\young_flies_xmls', 'young')\n",
      "findXML('D:\\Chen Ye\\Documents\\GitHub\\Excelsior\\HHMI_tracked_files\\old_flies_xmls', 'old')"
     ],
     "language": "python",
     "metadata": {},
     "outputs": [
      {
       "output_type": "stream",
       "stream": "stdout",
       "text": [
        "Recursively finding xmls in D:\\Chen Ye\\Documents\\GitHub\\Excelsior\\HHMI_tracked_files\\young_flies_csv\n",
        "In directory D:\\Chen Ye\\Documents\\GitHub\\Excelsior\\HHMI_tracked_files\\young_flies_csv\n",
        "Completed!\n",
        "Recursively finding xmls in D:\\Chen Ye\\Documents\\GitHub\\Excelsior\\HHMI_tracked_files\\old_flies_csv\n",
        "In directory D:\\Chen Ye\\Documents\\GitHub\\Excelsior\\HHMI_tracked_files\\old_flies_csv\n",
        "Completed!\n"
       ]
      }
     ],
     "prompt_number": 3
    },
    {
     "cell_type": "code",
     "collapsed": false,
     "input": [
      "#Test some values\n",
      "print frameArray[0][2][0].spots[1]['x']"
     ],
     "language": "python",
     "metadata": {},
     "outputs": [
      {
       "ename": "IndexError",
       "evalue": "list index out of range",
       "output_type": "pyerr",
       "traceback": [
        "\u001b[1;31m---------------------------------------------------------------------------\u001b[0m\n\u001b[1;31mIndexError\u001b[0m                                Traceback (most recent call last)",
        "\u001b[1;32m<ipython-input-5-5ba16678d925>\u001b[0m in \u001b[0;36m<module>\u001b[1;34m()\u001b[0m\n\u001b[0;32m      1\u001b[0m \u001b[1;31m#Test some values\u001b[0m\u001b[1;33m\u001b[0m\u001b[1;33m\u001b[0m\u001b[0m\n\u001b[1;32m----> 2\u001b[1;33m \u001b[1;32mprint\u001b[0m \u001b[0mframeArray\u001b[0m\u001b[1;33m[\u001b[0m\u001b[1;36m0\u001b[0m\u001b[1;33m]\u001b[0m\u001b[1;33m[\u001b[0m\u001b[1;36m2\u001b[0m\u001b[1;33m]\u001b[0m\u001b[1;33m[\u001b[0m\u001b[1;36m0\u001b[0m\u001b[1;33m]\u001b[0m\u001b[1;33m.\u001b[0m\u001b[0mspots\u001b[0m\u001b[1;33m[\u001b[0m\u001b[1;36m1\u001b[0m\u001b[1;33m]\u001b[0m\u001b[1;33m[\u001b[0m\u001b[1;34m'x'\u001b[0m\u001b[1;33m]\u001b[0m\u001b[1;33m\u001b[0m\u001b[0m\n\u001b[0m",
        "\u001b[1;31mIndexError\u001b[0m: list index out of range"
       ]
      }
     ],
     "prompt_number": 5
    },
    {
     "cell_type": "code",
     "collapsed": false,
     "input": [
      "#Create a pandas dataframe\n",
      "dataframe = exportToPandas(frameArray)"
     ],
     "language": "python",
     "metadata": {},
     "outputs": [
      {
       "ename": "NameError",
       "evalue": "name 'exportToPandas' is not defined",
       "output_type": "pyerr",
       "traceback": [
        "\u001b[1;31m---------------------------------------------------------------------------\u001b[0m\n\u001b[1;31mNameError\u001b[0m                                 Traceback (most recent call last)",
        "\u001b[1;32m<ipython-input-1-51f112c1b1ec>\u001b[0m in \u001b[0;36m<module>\u001b[1;34m()\u001b[0m\n\u001b[0;32m      1\u001b[0m \u001b[1;31m#Create a pandas dataframe\u001b[0m\u001b[1;33m\u001b[0m\u001b[1;33m\u001b[0m\u001b[0m\n\u001b[1;32m----> 2\u001b[1;33m \u001b[0mdataframe\u001b[0m \u001b[1;33m=\u001b[0m \u001b[0mexportToPandas\u001b[0m\u001b[1;33m(\u001b[0m\u001b[0mframeArray\u001b[0m\u001b[1;33m)\u001b[0m\u001b[1;33m\u001b[0m\u001b[0m\n\u001b[0m",
        "\u001b[1;31mNameError\u001b[0m: name 'exportToPandas' is not defined"
       ]
      }
     ],
     "prompt_number": 1
    },
    {
     "cell_type": "code",
     "collapsed": false,
     "input": [],
     "language": "python",
     "metadata": {},
     "outputs": []
    }
   ],
   "metadata": {}
  }
 ]
}